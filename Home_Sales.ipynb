{
  "cells": [
    {
      "cell_type": "markdown",
      "metadata": {
        "id": "view-in-github",
        "colab_type": "text"
      },
      "source": [
        "<a href=\"https://colab.research.google.com/github/spencerduke21/home_sales/blob/main/Home_Sales.ipynb\" target=\"_parent\"><img src=\"https://colab.research.google.com/assets/colab-badge.svg\" alt=\"Open In Colab\"/></a>"
      ]
    },
    {
      "cell_type": "code",
      "execution_count": 12,
      "metadata": {
        "colab": {
          "base_uri": "https://localhost:8080/"
        },
        "id": "a_KW73O2e3dw",
        "outputId": "e291f09f-11ea-4112-a19a-1d615f489bc4"
      },
      "outputs": [
        {
          "output_type": "stream",
          "name": "stdout",
          "text": [
            "\r0% [Working]\r            \rHit:1 http://archive.ubuntu.com/ubuntu jammy InRelease\n",
            "\r0% [Waiting for headers] [Connecting to security.ubuntu.com (185.125.190.39)] [\r                                                                               \rHit:2 http://archive.ubuntu.com/ubuntu jammy-updates InRelease\n",
            "\r0% [Waiting for headers] [Connecting to security.ubuntu.com (185.125.190.39)] [\r                                                                               \rHit:3 https://developer.download.nvidia.com/compute/cuda/repos/ubuntu2204/x86_64  InRelease\n",
            "\r0% [Waiting for headers] [Waiting for headers] [Waiting for headers] [Connected\r                                                                               \rHit:4 https://cloud.r-project.org/bin/linux/ubuntu jammy-cran40/ InRelease\n",
            "Hit:5 http://archive.ubuntu.com/ubuntu jammy-backports InRelease\n",
            "Hit:6 http://security.ubuntu.com/ubuntu jammy-security InRelease\n",
            "Hit:7 https://ppa.launchpadcontent.net/c2d4u.team/c2d4u4.0+/ubuntu jammy InRelease\n",
            "Hit:8 https://ppa.launchpadcontent.net/deadsnakes/ppa/ubuntu jammy InRelease\n",
            "Hit:9 https://ppa.launchpadcontent.net/graphics-drivers/ppa/ubuntu jammy InRelease\n",
            "Hit:10 https://ppa.launchpadcontent.net/ubuntugis/ppa/ubuntu jammy InRelease\n",
            "Reading package lists... Done\n"
          ]
        }
      ],
      "source": [
        "import os\n",
        "# Find the latest version of spark 3.x  from http://www.apache.org/dist/spark/ and enter as the spark version\n",
        "# For example:\n",
        "# spark_version = 'spark-3.4.0'\n",
        "spark_version = 'spark-3.4.0'\n",
        "os.environ['SPARK_VERSION']=spark_version\n",
        "\n",
        "# Install Spark and Java\n",
        "!apt-get update\n",
        "!apt-get install openjdk-11-jdk-headless -qq > /dev/null\n",
        "!wget -q http://www.apache.org/dist/spark/$SPARK_VERSION/$SPARK_VERSION-bin-hadoop3.tgz\n",
        "!tar xf $SPARK_VERSION-bin-hadoop3.tgz\n",
        "!pip install -q findspark\n",
        "\n",
        "# Set Environment Variables\n",
        "os.environ[\"JAVA_HOME\"] = \"/usr/lib/jvm/java-11-openjdk-amd64\"\n",
        "os.environ[\"SPARK_HOME\"] = f\"/content/{spark_version}-bin-hadoop3\"\n",
        "\n",
        "# Start a SparkSession\n",
        "import findspark\n",
        "findspark.init()"
      ]
    },
    {
      "cell_type": "code",
      "execution_count": 14,
      "metadata": {
        "id": "2XbWNf1Te5fM"
      },
      "outputs": [],
      "source": [
        "# Import packages\n",
        "from pyspark.sql import SparkSession\n",
        "import urllib.request\n",
        "import time\n",
        "from pyspark.sql.functions import year, round\n",
        "\n",
        "# Create a SparkSession\n",
        "spark = SparkSession.builder.appName(\"SparkSQL\").getOrCreate()"
      ]
    },
    {
      "cell_type": "code",
      "execution_count": 16,
      "metadata": {
        "id": "wOJqxG_RPSwp"
      },
      "outputs": [],
      "source": [
        "# 1. Read in the AWS S3 bucket into a DataFrame.\n",
        "from pyspark import SparkFiles\n",
        "url = \"https://2u-data-curriculum-team.s3.amazonaws.com/dataviz-classroom/v1.2/22-big-data/home_sales_revised.csv\"\n",
        "\n"
      ]
    },
    {
      "cell_type": "code",
      "source": [
        "local_file_path = \"/content/home_sales_revised.csv\"\n",
        "urllib.request.urlretrieve(url, local_file_path)"
      ],
      "metadata": {
        "colab": {
          "base_uri": "https://localhost:8080/"
        },
        "id": "1E7SYnhL_zao",
        "outputId": "cd50053a-901b-4ba6-ae8e-6024c4f0978b"
      },
      "execution_count": 17,
      "outputs": [
        {
          "output_type": "execute_result",
          "data": {
            "text/plain": [
              "('/content/home_sales_revised.csv',\n",
              " <http.client.HTTPMessage at 0x7e512435ace0>)"
            ]
          },
          "metadata": {},
          "execution_count": 17
        }
      ]
    },
    {
      "cell_type": "code",
      "execution_count": 19,
      "metadata": {
        "id": "RoljcJ7WPpnm",
        "colab": {
          "base_uri": "https://localhost:8080/"
        },
        "outputId": "253cb191-2ef9-46d5-fca1-4a3128c43b69"
      },
      "outputs": [
        {
          "output_type": "stream",
          "name": "stdout",
          "text": [
            "+--------------------+----------+----------+------+--------+---------+-----------+--------+------+----------+----+\n",
            "|                  id|      date|date_built| price|bedrooms|bathrooms|sqft_living|sqft_lot|floors|waterfront|view|\n",
            "+--------------------+----------+----------+------+--------+---------+-----------+--------+------+----------+----+\n",
            "|f8a53099-ba1c-47d...|2022-04-08|      2016|936923|       4|        3|       3167|   11733|     2|         1|  76|\n",
            "|7530a2d8-1ae3-451...|2021-06-13|      2013|379628|       2|        2|       2235|   14384|     1|         0|  23|\n",
            "|43de979c-0bf0-4c9...|2019-04-12|      2014|417866|       2|        2|       2127|   10575|     2|         0|   0|\n",
            "|b672c137-b88c-48b...|2019-10-16|      2016|239895|       2|        2|       1631|   11149|     2|         0|   0|\n",
            "|e0726d4d-d595-407...|2022-01-08|      2017|424418|       3|        2|       2249|   13878|     2|         0|   4|\n",
            "|5aa00529-0533-46b...|2019-01-30|      2017|218712|       2|        3|       1965|   14375|     2|         0|   7|\n",
            "|131492a1-72e2-4a8...|2020-02-08|      2017|419199|       2|        3|       2062|    8876|     2|         0|   6|\n",
            "|8d54a71b-c520-44e...|2019-07-21|      2010|323956|       2|        3|       1506|   11816|     1|         0|  25|\n",
            "|e81aacfe-17fe-46b...|2020-06-16|      2016|181925|       3|        3|       2137|   11709|     2|         0|  22|\n",
            "|2ed8d509-7372-46d...|2021-08-06|      2015|258710|       3|        3|       1918|    9666|     1|         0|  25|\n",
            "|f876d86f-3c9f-42b...|2019-02-27|      2011|167864|       3|        3|       2471|   13924|     2|         0|  15|\n",
            "|0a2bd445-8508-4d8...|2021-12-30|      2014|337527|       2|        3|       1926|   12556|     1|         0|  23|\n",
            "|941bad30-eb49-4a7...|2020-05-09|      2015|229896|       3|        3|       2197|    8641|     1|         0|   3|\n",
            "|dd61eb34-6589-4c0...|2021-07-25|      2016|210247|       3|        2|       1672|   11986|     2|         0|  28|\n",
            "|f1e4cef7-d151-439...|2019-02-01|      2011|398667|       2|        3|       2331|   11356|     1|         0|   7|\n",
            "|ea620c7b-c2f7-4c6...|2021-05-31|      2011|437958|       3|        3|       2356|   11052|     1|         0|  26|\n",
            "|f233cb41-6f33-4b0...|2021-07-18|      2016|437375|       4|        3|       1704|   11721|     2|         0|  34|\n",
            "|c797ca12-52cd-4b1...|2019-06-08|      2015|288650|       2|        3|       2100|   10419|     2|         0|   7|\n",
            "|0cfe57f3-28c2-472...|2019-10-04|      2015|308313|       3|        3|       1960|    9453|     2|         0|   2|\n",
            "|4566cd2a-ac6e-435...|2019-07-15|      2016|177541|       3|        3|       2130|   10517|     2|         0|  25|\n",
            "+--------------------+----------+----------+------+--------+---------+-----------+--------+------+----------+----+\n",
            "only showing top 20 rows\n",
            "\n"
          ]
        }
      ],
      "source": [
        "# 2. Create a temporary view of the DataFrame.\n",
        "df = spark.read.csv(local_file_path, header=True, inferSchema=True)\n",
        "df.show()\n"
      ]
    },
    {
      "cell_type": "code",
      "execution_count": 20,
      "metadata": {
        "id": "L6fkwOeOmqvq",
        "colab": {
          "base_uri": "https://localhost:8080/"
        },
        "outputId": "a0e8fc81-e269-4508-a666-d34d1e105a99"
      },
      "outputs": [
        {
          "output_type": "stream",
          "name": "stdout",
          "text": [
            "+----+-------------+\n",
            "|Year|Average_Price|\n",
            "+----+-------------+\n",
            "|2022|    296363.88|\n",
            "|2019|     300263.7|\n",
            "|2020|    298353.78|\n",
            "|2021|    301819.44|\n",
            "+----+-------------+\n",
            "\n"
          ]
        }
      ],
      "source": [
        "# 3. What is the average price for a four bedroom house sold in each year rounded to two decimal places?\n",
        "\n",
        "four_bedroom_df = df.filter(df['bedrooms'] == 4)\n",
        "four_bedroom_df = four_bedroom_df.withColumn('Year', year('date'))\n",
        "average_price_per_year = four_bedroom_df.groupBy('Year').avg('price').alias('Average_Price')\n",
        "average_price_per_year = average_price_per_year.select('Year', round('avg(price)', 2).alias('Average_Price'))\n",
        "average_price_per_year.show()"
      ]
    },
    {
      "cell_type": "code",
      "execution_count": 21,
      "metadata": {
        "id": "l8p_tUS8h8it",
        "colab": {
          "base_uri": "https://localhost:8080/"
        },
        "outputId": "f2d6898a-89b8-498e-df55-238630cb3d38"
      },
      "outputs": [
        {
          "output_type": "stream",
          "name": "stdout",
          "text": [
            "+----------+-------------+\n",
            "|date_built|Average_Price|\n",
            "+----------+-------------+\n",
            "|      2015|     288770.3|\n",
            "|      2013|    295962.27|\n",
            "|      2014|    290852.27|\n",
            "|      2012|    293683.19|\n",
            "|      2016|    290555.07|\n",
            "|      2010|    292859.62|\n",
            "|      2011|    291117.47|\n",
            "|      2017|    292676.79|\n",
            "+----------+-------------+\n",
            "\n"
          ]
        }
      ],
      "source": [
        "# 4. What is the average price of a home for each year the home was built that have 3 bedrooms and 3 bathrooms rounded to two decimal places?\n",
        "three_bedroom_three_bathroom_df = df.filter((df['bedrooms'] == 3) & (df['bathrooms'] == 3))\n",
        "average_price_per_year_built = three_bedroom_three_bathroom_df.groupBy('date_built').avg('price').alias('Average_Price')\n",
        "average_price_per_year_built = average_price_per_year_built.select('date_built', round('avg(price)', 2).alias('Average_Price'))\n",
        "average_price_per_year_built.show()"
      ]
    },
    {
      "cell_type": "code",
      "execution_count": 22,
      "metadata": {
        "id": "Y-Eytz64liDU",
        "colab": {
          "base_uri": "https://localhost:8080/"
        },
        "outputId": "a46b24e0-e2dc-4e13-f0f9-cfaf17613cc9"
      },
      "outputs": [
        {
          "output_type": "stream",
          "name": "stdout",
          "text": [
            "+----------+-------------+\n",
            "|date_built|Average_Price|\n",
            "+----------+-------------+\n",
            "|      2015|    297609.97|\n",
            "|      2013|    303676.79|\n",
            "|      2014|    298264.72|\n",
            "|      2012|    307539.97|\n",
            "|      2016|     293965.1|\n",
            "|      2010|    285010.22|\n",
            "|      2011|    276553.81|\n",
            "|      2017|    280317.58|\n",
            "+----------+-------------+\n",
            "\n"
          ]
        }
      ],
      "source": [
        "# 5. What is the average price of a home for each year built that have 3 bedrooms, 3 bathrooms, with two floors,\n",
        "# and are greater than or equal to 2,000 square feet rounded to two decimal places?\n",
        "filtered_df = df.filter((df['bedrooms'] == 3) &\n",
        "                        (df['bathrooms'] == 3) &\n",
        "                        (df['floors'] == 2) &\n",
        "                        (df['sqft_living'] >= 2000))\n",
        "\n",
        "average_price_per_year_built = filtered_df.groupBy('date_built').avg('price').alias('Average_Price')\n",
        "average_price_per_year_built = average_price_per_year_built.select('date_built', round('avg(price)', 2).alias('Average_Price'))\n",
        "average_price_per_year_built.show()"
      ]
    },
    {
      "cell_type": "code",
      "execution_count": 27,
      "metadata": {
        "colab": {
          "base_uri": "https://localhost:8080/"
        },
        "id": "GUrfgOX1pCRd",
        "outputId": "f83fb080-02a9-493e-9ecd-da59f8681103"
      },
      "outputs": [
        {
          "output_type": "stream",
          "name": "stdout",
          "text": [
            "Average Price: $ 473796.26\n",
            "View Rating:  Low\n",
            "Query Execution Time:  0.5322506427764893  seconds\n"
          ]
        }
      ],
      "source": [
        "# 6. What is the \"view\" rating for the average price of a home, rounded to two decimal places, where the homes are greater than\n",
        "# or equal to $350,000? Although this is a small dataset, determine the run time for this query.\n",
        "\n",
        "spark = SparkSession.builder.appName(\"SparkSQL\").getOrCreate()\n",
        "\n",
        "start_time = time.time()\n",
        "\n",
        "filtered_df = df.filter(df['price'] >= 350000)\n",
        "\n",
        "filtered_df.createOrReplaceTempView(\"home_sales\")\n",
        "\n",
        "average_price_query = spark.sql(\"SELECT ROUND(AVG(price), 2) AS Average_Price FROM home_sales\")\n",
        "rounded_average_price = average_price_query.collect()[0][\"Average_Price\"]\n",
        "\n",
        "view_rating = None\n",
        "if rounded_average_price < 500000:\n",
        "    view_rating = \"Low\"\n",
        "elif rounded_average_price >= 500000 and rounded_average_price < 1000000:\n",
        "    view_rating = \"Moderate\"\n",
        "else:\n",
        "    view_rating = \"High\"\n",
        "\n",
        "end_time = time.time()\n",
        "\n",
        "print(\"Average Price: $\", rounded_average_price)\n",
        "print(\"View Rating: \", view_rating)\n",
        "print(\"Query Execution Time: \", end_time - start_time, \" seconds\")"
      ]
    },
    {
      "cell_type": "code",
      "execution_count": 28,
      "metadata": {
        "id": "KAhk3ZD2tFy8"
      },
      "outputs": [],
      "source": [
        "# 7. Cache the the temporary table home_sales.\n",
        "spark.catalog.cacheTable(\"home_sales\")"
      ]
    },
    {
      "cell_type": "code",
      "execution_count": 29,
      "metadata": {
        "id": "4opVhbvxtL-i",
        "colab": {
          "base_uri": "https://localhost:8080/"
        },
        "outputId": "b0fc18de-c3f7-455f-da9d-6a546786d112"
      },
      "outputs": [
        {
          "output_type": "execute_result",
          "data": {
            "text/plain": [
              "True"
            ]
          },
          "metadata": {},
          "execution_count": 29
        }
      ],
      "source": [
        "# 8. Check if the table is cached.\n",
        "spark.catalog.isCached('home_sales')"
      ]
    },
    {
      "cell_type": "code",
      "execution_count": 31,
      "metadata": {
        "colab": {
          "base_uri": "https://localhost:8080/"
        },
        "id": "5GnL46lwTSEk",
        "outputId": "14ea131b-2295-45ec-8fad-a4da989b8d6b"
      },
      "outputs": [
        {
          "output_type": "stream",
          "name": "stdout",
          "text": [
            "Cached Data:\n",
            "Average Price: $ 473796.26\n",
            "View Rating:  Low\n",
            "Query Execution Time (Cached):  0.2513606548309326  seconds\n",
            "\n",
            "Uncached Data:\n",
            "Average Price: $ 473796.26\n",
            "View Rating:  Low\n",
            "Query Execution Time (Uncached):  0.37146902084350586  seconds\n"
          ]
        }
      ],
      "source": [
        "# 9. Using the cached data, run the query that filters out the view ratings with average price\n",
        "#  greater than or equal to $350,000. Determine the runtime and compare it to uncached runtime.\n",
        "\n",
        "\n",
        "spark = SparkSession.builder.appName(\"SparkSQL\").getOrCreate()\n",
        "\n",
        "filtered_df = df.filter(df['price'] >= 350000)\n",
        "\n",
        "\n",
        "filtered_df.createOrReplaceTempView(\"home_sales\")\n",
        "spark.catalog.cacheTable(\"home_sales\")\n",
        "\n",
        "\n",
        "start_time_cached = time.time()\n",
        "average_price_query = spark.sql(\"SELECT ROUND(AVG(price), 2) AS Average_Price FROM home_sales\")\n",
        "rounded_average_price = average_price_query.collect()[0][\"Average_Price\"]\n",
        "\n",
        "view_rating = None\n",
        "if rounded_average_price < 500000:\n",
        "    view_rating = \"Low\"\n",
        "elif rounded_average_price >= 500000 and rounded_average_price < 1000000:\n",
        "    view_rating = \"Moderate\"\n",
        "else:\n",
        "    view_rating = \"High\"\n",
        "end_time_cached = time.time()\n",
        "\n",
        "\n",
        "spark.catalog.uncacheTable(\"home_sales\")\n",
        "\n",
        "\n",
        "start_time_uncached = time.time()\n",
        "average_price_query_uncached = spark.sql(\"SELECT ROUND(AVG(price), 2) AS Average_Price FROM home_sales\")\n",
        "rounded_average_price_uncached = average_price_query_uncached.collect()[0][\"Average_Price\"]\n",
        "\n",
        "view_rating_uncached = None\n",
        "if rounded_average_price_uncached < 500000:\n",
        "    view_rating_uncached = \"Low\"\n",
        "elif rounded_average_price_uncached >= 500000 and rounded_average_price_uncached < 1000000:\n",
        "    view_rating_uncached = \"Moderate\"\n",
        "else:\n",
        "    view_rating_uncached = \"High\"\n",
        "end_time_uncached = time.time()\n",
        "\n",
        "\n",
        "print(\"Cached Data:\")\n",
        "print(\"Average Price: $\", rounded_average_price)\n",
        "print(\"View Rating: \", view_rating)\n",
        "print(\"Query Execution Time (Cached): \", end_time_cached - start_time_cached, \" seconds\")\n",
        "\n",
        "print(\"\\nUncached Data:\")\n",
        "print(\"Average Price: $\", rounded_average_price_uncached)\n",
        "print(\"View Rating: \", view_rating_uncached)\n",
        "print(\"Query Execution Time (Uncached): \", end_time_uncached - start_time_uncached, \" seconds\")"
      ]
    },
    {
      "cell_type": "code",
      "execution_count": 32,
      "metadata": {
        "id": "Qm12WN9isHBR"
      },
      "outputs": [],
      "source": [
        "# 10. Partition by the \"date_built\" field on the formatted parquet home sales data\n",
        "output_path = \"/content/partitioned_home_sales_parquet\"\n",
        "filtered_df.write.partitionBy(\"date_built\").parquet(output_path)"
      ]
    },
    {
      "cell_type": "code",
      "execution_count": 33,
      "metadata": {
        "id": "AZ7BgY61sRqY",
        "colab": {
          "base_uri": "https://localhost:8080/"
        },
        "outputId": "9313d80e-af9a-4b41-a1de-008e9d31ab91"
      },
      "outputs": [
        {
          "output_type": "stream",
          "name": "stdout",
          "text": [
            "+--------------------+----------+------+--------+---------+-----------+--------+------+----------+----+----------+\n",
            "|                  id|      date| price|bedrooms|bathrooms|sqft_living|sqft_lot|floors|waterfront|view|date_built|\n",
            "+--------------------+----------+------+--------+---------+-----------+--------+------+----------+----+----------+\n",
            "|e0726d4d-d595-407...|2022-01-08|424418|       3|        2|       2249|   13878|     2|         0|   4|      2017|\n",
            "|131492a1-72e2-4a8...|2020-02-08|419199|       2|        3|       2062|    8876|     2|         0|   6|      2017|\n",
            "|164f451a-413b-469...|2022-04-26|377485|       2|        2|       1937|    9033|     2|         0|  23|      2017|\n",
            "|0ffe23e3-9d0f-442...|2021-11-18|429183|       3|        3|       2162|   12567|     1|         0|  49|      2017|\n",
            "|141ef834-60cf-42e...|2021-10-13|399016|       2|        3|       1773|   13699|     1|         0|  23|      2017|\n",
            "|fd8213d0-3872-4de...|2020-04-23|858900|       4|        5|       4465|    9873|     1|         1|  53|      2017|\n",
            "|02fb596e-2db7-458...|2022-02-07|408740|       2|        2|       1638|   10328|     1|         0|   4|      2017|\n",
            "|d8acbf50-9d69-413...|2022-04-14|355509|       4|        3|       2442|   10590|     2|         0|   8|      2017|\n",
            "|2da711ea-9ea0-456...|2021-09-28|353653|       4|        2|       1557|   14907|     2|         0|  35|      2017|\n",
            "|421c807a-c40b-448...|2020-06-13|367068|       2|        3|       1792|   14814|     1|         0|  36|      2017|\n",
            "|3d2dfd04-84c5-4d3...|2021-11-02|361153|       4|        2|       2266|   11372|     1|         0|   3|      2017|\n",
            "|d6981bcd-e696-4d1...|2019-08-12|442312|       4|        3|       2329|    9758|     1|         0|  31|      2017|\n",
            "|ecf000d1-333f-407...|2020-06-08|377892|       2|        2|       1919|   10474|     1|         0|  39|      2017|\n",
            "|e81b8126-4263-450...|2021-12-22|366608|       2|        2|       2291|    9034|     1|         0|   0|      2017|\n",
            "|b375c001-6e05-489...|2020-04-09|423394|       4|        2|       1849|   12266|     1|         0|   1|      2017|\n",
            "|94edaeb4-cc8a-4de...|2019-09-12|357201|       2|        3|       2022|   13486|     2|         0|  48|      2017|\n",
            "|063f4f41-8890-43c...|2019-10-27|448932|       3|        3|       1753|    9724|     1|         0|  34|      2017|\n",
            "|b78ec0b5-05b7-4ae...|2021-05-10|356497|       2|        3|       1946|   12279|     1|         0|  17|      2017|\n",
            "|bf5462b9-6014-479...|2020-07-21|719081|       5|        5|       3314|   12407|     1|         1|  79|      2017|\n",
            "|d941fb57-98bf-4fa...|2020-06-26|377095|       3|        3|       2221|    9749|     1|         0|  11|      2017|\n",
            "+--------------------+----------+------+--------+---------+-----------+--------+------+----------+----+----------+\n",
            "only showing top 20 rows\n",
            "\n"
          ]
        }
      ],
      "source": [
        "# 11. Read the parquet formatted data.\n",
        "input_path = \"/content/partitioned_home_sales_parquet\"\n",
        "partitioned_df = spark.read.parquet(input_path)\n",
        "partitioned_df.show()"
      ]
    },
    {
      "cell_type": "code",
      "execution_count": 34,
      "metadata": {
        "id": "J6MJkHfvVcvh",
        "colab": {
          "base_uri": "https://localhost:8080/"
        },
        "outputId": "d1d6fbff-1410-479b-d711-4260d3d1ad42"
      },
      "outputs": [
        {
          "output_type": "stream",
          "name": "stdout",
          "text": [
            "+--------------------+----------+------+--------+---------+-----------+--------+------+----------+----+----------+\n",
            "|                  id|      date| price|bedrooms|bathrooms|sqft_living|sqft_lot|floors|waterfront|view|date_built|\n",
            "+--------------------+----------+------+--------+---------+-----------+--------+------+----------+----+----------+\n",
            "|e0726d4d-d595-407...|2022-01-08|424418|       3|        2|       2249|   13878|     2|         0|   4|      2017|\n",
            "|131492a1-72e2-4a8...|2020-02-08|419199|       2|        3|       2062|    8876|     2|         0|   6|      2017|\n",
            "|164f451a-413b-469...|2022-04-26|377485|       2|        2|       1937|    9033|     2|         0|  23|      2017|\n",
            "|0ffe23e3-9d0f-442...|2021-11-18|429183|       3|        3|       2162|   12567|     1|         0|  49|      2017|\n",
            "|141ef834-60cf-42e...|2021-10-13|399016|       2|        3|       1773|   13699|     1|         0|  23|      2017|\n",
            "|fd8213d0-3872-4de...|2020-04-23|858900|       4|        5|       4465|    9873|     1|         1|  53|      2017|\n",
            "|02fb596e-2db7-458...|2022-02-07|408740|       2|        2|       1638|   10328|     1|         0|   4|      2017|\n",
            "|d8acbf50-9d69-413...|2022-04-14|355509|       4|        3|       2442|   10590|     2|         0|   8|      2017|\n",
            "|2da711ea-9ea0-456...|2021-09-28|353653|       4|        2|       1557|   14907|     2|         0|  35|      2017|\n",
            "|421c807a-c40b-448...|2020-06-13|367068|       2|        3|       1792|   14814|     1|         0|  36|      2017|\n",
            "|3d2dfd04-84c5-4d3...|2021-11-02|361153|       4|        2|       2266|   11372|     1|         0|   3|      2017|\n",
            "|d6981bcd-e696-4d1...|2019-08-12|442312|       4|        3|       2329|    9758|     1|         0|  31|      2017|\n",
            "|ecf000d1-333f-407...|2020-06-08|377892|       2|        2|       1919|   10474|     1|         0|  39|      2017|\n",
            "|e81b8126-4263-450...|2021-12-22|366608|       2|        2|       2291|    9034|     1|         0|   0|      2017|\n",
            "|b375c001-6e05-489...|2020-04-09|423394|       4|        2|       1849|   12266|     1|         0|   1|      2017|\n",
            "|94edaeb4-cc8a-4de...|2019-09-12|357201|       2|        3|       2022|   13486|     2|         0|  48|      2017|\n",
            "|063f4f41-8890-43c...|2019-10-27|448932|       3|        3|       1753|    9724|     1|         0|  34|      2017|\n",
            "|b78ec0b5-05b7-4ae...|2021-05-10|356497|       2|        3|       1946|   12279|     1|         0|  17|      2017|\n",
            "|bf5462b9-6014-479...|2020-07-21|719081|       5|        5|       3314|   12407|     1|         1|  79|      2017|\n",
            "|d941fb57-98bf-4fa...|2020-06-26|377095|       3|        3|       2221|    9749|     1|         0|  11|      2017|\n",
            "+--------------------+----------+------+--------+---------+-----------+--------+------+----------+----+----------+\n",
            "only showing top 20 rows\n",
            "\n"
          ]
        }
      ],
      "source": [
        "# 12. Create a temporary table for the parquet data.\n",
        "input_path = \"/content/partitioned_home_sales_parquet\"\n",
        "partitioned_df = spark.read.parquet(input_path)\n",
        "partitioned_df.show()"
      ]
    },
    {
      "cell_type": "code",
      "execution_count": 35,
      "metadata": {
        "colab": {
          "base_uri": "https://localhost:8080/"
        },
        "id": "G_Vhb52rU1Sn",
        "outputId": "05c32abc-a2f8-4f89-b21a-2df8e9049175"
      },
      "outputs": [
        {
          "output_type": "stream",
          "name": "stdout",
          "text": [
            "Parquet Data Query Results:\n",
            "Average Price: $ 473796.26\n",
            "View Rating:  Low\n",
            "Query Execution Time (Parquet):  0.3626573085784912  seconds\n"
          ]
        }
      ],
      "source": [
        "# 13. Run the query that filters out the view ratings with average price of greater than or equal to $350,000\n",
        "# with the parquet DataFrame. Round your average to two decimal places.\n",
        "# Determine the runtime and compare it to the cached version.\n",
        "\n",
        "\n",
        "spark = SparkSession.builder.appName(\"SparkSQL\").getOrCreate()\n",
        "\n",
        "\n",
        "partitioned_df.createOrReplaceTempView(\"partitioned_home_sales\")\n",
        "\n",
        "\n",
        "start_time_parquet = time.time()\n",
        "average_price_query = spark.sql(\"SELECT ROUND(AVG(price), 2) AS Average_Price FROM partitioned_home_sales\")\n",
        "rounded_average_price = average_price_query.collect()[0][\"Average_Price\"]\n",
        "\n",
        "view_rating = None\n",
        "if rounded_average_price < 500000:\n",
        "    view_rating = \"Low\"\n",
        "elif rounded_average_price >= 500000 and rounded_average_price < 1000000:\n",
        "    view_rating = \"Moderate\"\n",
        "else:\n",
        "    view_rating = \"High\"\n",
        "end_time_parquet = time.time()\n",
        "\n",
        "\n",
        "print(\"Parquet Data Query Results:\")\n",
        "print(\"Average Price: $\", rounded_average_price)\n",
        "print(\"View Rating: \", view_rating)\n",
        "print(\"Query Execution Time (Parquet): \", end_time_parquet - start_time_parquet, \" seconds\")"
      ]
    },
    {
      "cell_type": "code",
      "execution_count": 36,
      "metadata": {
        "id": "hjjYzQGjtbq8"
      },
      "outputs": [],
      "source": [
        "# 14. Uncache the home_sales temporary table.\n",
        "spark.catalog.uncacheTable(\"home_sales\")"
      ]
    },
    {
      "cell_type": "code",
      "execution_count": 37,
      "metadata": {
        "id": "Sy9NBvO7tlmm",
        "colab": {
          "base_uri": "https://localhost:8080/"
        },
        "outputId": "4fc12351-dfbb-4094-c621-f0684c1f1fbd"
      },
      "outputs": [
        {
          "output_type": "stream",
          "name": "stdout",
          "text": [
            "The 'home_sales' table is not cached.\n"
          ]
        }
      ],
      "source": [
        "# 15. Check if the home_sales is no longer cached\n",
        "if spark.catalog.isCached(\"home_sales\"):\n",
        "    print(\"The 'home_sales' table is still cached.\")\n",
        "else:\n",
        "    print(\"The 'home_sales' table is not cached.\")\n"
      ]
    },
    {
      "cell_type": "code",
      "execution_count": null,
      "metadata": {
        "id": "Si-BNruRUGK3"
      },
      "outputs": [],
      "source": []
    }
  ],
  "metadata": {
    "colab": {
      "provenance": [],
      "include_colab_link": true
    },
    "gpuClass": "standard",
    "kernelspec": {
      "display_name": "Python 3 (ipykernel)",
      "language": "python",
      "name": "python3"
    },
    "language_info": {
      "codemirror_mode": {
        "name": "ipython",
        "version": 3
      },
      "file_extension": ".py",
      "mimetype": "text/x-python",
      "name": "python",
      "nbconvert_exporter": "python",
      "pygments_lexer": "ipython3",
      "version": "3.9.13"
    },
    "nteract": {
      "version": "0.28.0"
    }
  },
  "nbformat": 4,
  "nbformat_minor": 0
}